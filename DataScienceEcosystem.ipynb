{
 "cells": [
  {
   "cell_type": "markdown",
   "id": "34da9e0c-d741-499f-a318-52df66bf885f",
   "metadata": {},
   "source": [
    "# Data Science Tools and Ecosystem"
   ]
  },
  {
   "cell_type": "markdown",
   "id": "73083a17-b7e7-442e-8288-68ef7fb85752",
   "metadata": {},
   "source": [
    "## In this notebook, Data Science Tools and Ecosystem are summarized."
   ]
  },
  {
   "cell_type": "markdown",
   "id": "46926c0c-75a1-4829-80f9-e964452c0322",
   "metadata": {},
   "source": [
    "__Objectives:__\n",
    "* Python\n",
    "* R\n",
    "* Julia\n",
    "* Java"
   ]
  },
  {
   "cell_type": "markdown",
   "id": "24b6205b-8f3e-4281-b424-9267345fbfe3",
   "metadata": {},
   "source": [
    "### Some of the popular languages that Data Scientists use are:"
   ]
  },
  {
   "cell_type": "markdown",
   "id": "e3f41f49-fba6-493f-b799-e25d0a341fdc",
   "metadata": {},
   "source": [
    "1. Python\n",
    "2. R\n",
    "3. Julia\n",
    "4. Java"
   ]
  },
  {
   "cell_type": "markdown",
   "id": "92fba4a4-f871-4ceb-86d0-5036d5f5df6a",
   "metadata": {},
   "source": [
    "### Some of the commonly used libraries used by Data Scientists include:"
   ]
  },
  {
   "cell_type": "markdown",
   "id": "c4650721-a56f-472d-930a-e8f3a1ab2694",
   "metadata": {},
   "source": [
    "1. Pandas\n",
    "2. Numpy\n",
    "3. Tensorflow\n",
    "4. Scipy\n",
    "5. Keras"
   ]
  },
  {
   "cell_type": "markdown",
   "id": "fe5e75d6-875d-4988-9c0e-7d525323e014",
   "metadata": {},
   "source": [
    "| Data Science Tools |\n",
    "| ------ |\n",
    "| Hadoop |\n",
    "| Hive |\n",
    "| BigML |\n",
    "| SAS |"
   ]
  },
  {
   "cell_type": "markdown",
   "id": "ed74728c-3d8d-45cd-82b9-fe32fd54c777",
   "metadata": {},
   "source": [
    "### Below are a few examples of evaluating arithmetic expressions in Python"
   ]
  },
  {
   "cell_type": "code",
   "execution_count": 2,
   "id": "94aa6be5-0a27-4288-be0f-78bc6ce8baed",
   "metadata": {},
   "outputs": [
    {
     "data": {
      "text/plain": [
       "17"
      ]
     },
     "execution_count": 2,
     "metadata": {},
     "output_type": "execute_result"
    }
   ],
   "source": [
    "# This a simple arithmetic expression to mutiply then add integers\n",
    "(3*4)+5"
   ]
  },
  {
   "cell_type": "code",
   "execution_count": 3,
   "id": "504bbf6a-2441-4bd3-a650-e8d2dff9842f",
   "metadata": {},
   "outputs": [
    {
     "data": {
      "text/plain": [
       "3.3333333333333335"
      ]
     },
     "execution_count": 3,
     "metadata": {},
     "output_type": "execute_result"
    }
   ],
   "source": [
    "#This will convert 200 minutes to hours by diving by 60\n",
    "200/60"
   ]
  },
  {
   "cell_type": "markdown",
   "id": "6a932973-3e6b-4586-98ef-714e35dce518",
   "metadata": {},
   "source": [
    "## Author\n",
    "Tousif Mndal"
   ]
  },
  {
   "cell_type": "code",
   "execution_count": null,
   "id": "7b1510f7-9633-4853-adc1-ba52faaf81c4",
   "metadata": {},
   "outputs": [],
   "source": []
  }
 ],
 "metadata": {
  "kernelspec": {
   "display_name": "Python 3 (ipykernel)",
   "language": "python",
   "name": "python3"
  },
  "language_info": {
   "codemirror_mode": {
    "name": "ipython",
    "version": 3
   },
   "file_extension": ".py",
   "mimetype": "text/x-python",
   "name": "python",
   "nbconvert_exporter": "python",
   "pygments_lexer": "ipython3",
   "version": "3.12.4"
  }
 },
 "nbformat": 4,
 "nbformat_minor": 5
}
